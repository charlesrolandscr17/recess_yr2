{
 "cells": [
  {
   "cell_type": "code",
   "execution_count": null,
   "metadata": {},
   "outputs": [],
   "source": [
    "import pandas as pd"
   ]
  },
  {
   "cell_type": "code",
   "execution_count": null,
   "metadata": {},
   "outputs": [],
   "source": [
    "df = pd.read_csv('2018CrimeStatisticsByCategoryOfCrime.csv')\n",
    "df"
   ]
  },
  {
   "cell_type": "code",
   "execution_count": null,
   "metadata": {},
   "outputs": [],
   "source": [
    "# Drop null values\n",
    "df.dropna(inplace=True)\n",
    "df"
   ]
  },
  {
   "cell_type": "code",
   "execution_count": null,
   "metadata": {},
   "outputs": [],
   "source": [
    "df.columns"
   ]
  },
  {
   "cell_type": "code",
   "execution_count": null,
   "metadata": {},
   "outputs": [],
   "source": [
    "# Check for null values\n",
    "df.isnull().sum().sort_values(ascending=False)"
   ]
  },
  {
   "cell_type": "code",
   "execution_count": null,
   "metadata": {},
   "outputs": [],
   "source": [
    "# Checking null values in figures\n",
    "import missingno as msno\n",
    "msno.bar(df, color='gray', fontsize=24);"
   ]
  },
  {
   "cell_type": "code",
   "execution_count": null,
   "metadata": {},
   "outputs": [],
   "source": [
    "\"\"\"\n",
    "- Key Objectives for analyzing your dataset\n",
    "- Features of the columns you analyzing and why are you analyzing.\n",
    "- Processing and Preparation | Why you chose them\n",
    "- \n",
    "\"\"\""
   ]
  },
  {
   "cell_type": "code",
   "execution_count": null,
   "metadata": {},
   "outputs": [],
   "source": [
    "# By Martin\n",
    "import pandas as pd\n",
    "import numpy as np\n",
    "import matplotlib.pyplot as plt\n",
    "import seaborn as sns\n"
   ]
  },
  {
   "cell_type": "code",
   "execution_count": null,
   "metadata": {},
   "outputs": [],
   "source": [
    "# load the uce results dataset\n",
    "df = pd.read_csv('UceResultsBySchool2011-2016.csv')\n",
    "df"
   ]
  },
  {
   "cell_type": "code",
   "execution_count": null,
   "metadata": {},
   "outputs": [],
   "source": [
    "# Dataset before cleaning 20\n",
    "df.head(20)"
   ]
  },
  {
   "cell_type": "code",
   "execution_count": null,
   "metadata": {},
   "outputs": [],
   "source": [
    "# Check for shape | helps to determine No of rows and columns\n",
    "df.shape"
   ]
  },
  {
   "cell_type": "code",
   "execution_count": null,
   "metadata": {},
   "outputs": [],
   "source": [
    "# Preparation and Preprocessing or Data cleaning\n",
    "df.columns"
   ]
  },
  {
   "cell_type": "code",
   "execution_count": null,
   "metadata": {},
   "outputs": [],
   "source": [
    "# Removing white spaces\n",
    "df.columns = df.columns.to_series().apply(lambda x: x.strip())\n",
    "df.columns"
   ]
  },
  {
   "cell_type": "code",
   "execution_count": null,
   "metadata": {},
   "outputs": [],
   "source": [
    "# Repalce column names with underscores\n",
    "df.columns = df.columns.str.replace(\" \", \"_\")\n",
    "df.columns"
   ]
  },
  {
   "cell_type": "code",
   "execution_count": null,
   "metadata": {},
   "outputs": [],
   "source": [
    "# Check for info\n",
    "df.info()"
   ]
  },
  {
   "cell_type": "code",
   "execution_count": null,
   "metadata": {},
   "outputs": [],
   "source": [
    "# Check for duplicates and drop them\n",
    "for isduplicate in df.duplicated().array:\n",
    "    if isduplicate:\n",
    "        print('uplicates identified and dropped')\n",
    "        df.drop_duplicates(inplace=True)\n",
    "        break\n",
    "    else:\n",
    "        pass\n",
    "print('No duplicates found')\n",
    "df[df.duplicated()==True]"
   ]
  },
  {
   "cell_type": "code",
   "execution_count": null,
   "metadata": {},
   "outputs": [],
   "source": [
    "# Check for null values or null\n",
    "df.isnull().sum().sort_values(ascending=False)"
   ]
  },
  {
   "cell_type": "code",
   "execution_count": null,
   "metadata": {},
   "outputs": [],
   "source": [
    "# Check for null and Nan values in the dataset\n",
    "df.isnull().any()"
   ]
  },
  {
   "cell_type": "code",
   "execution_count": null,
   "metadata": {},
   "outputs": [],
   "source": [
    "# Check for the Number of rows that are null\n",
    "null_rows = df[df.isnull().any(axis=1)]\n",
    "before_computation = len(null_rows.axes[0])\n",
    "print('Number of rows that are null values: ', before_computation)"
   ]
  },
  {
   "cell_type": "code",
   "execution_count": null,
   "metadata": {},
   "outputs": [],
   "source": [
    "# Remove rows without school names\n",
    "df.dropna(thresh=None, subset=['SCHOOL'], inplace=True)"
   ]
  },
  {
   "cell_type": "code",
   "execution_count": null,
   "metadata": {},
   "outputs": [],
   "source": [
    "# Replace missing TOTAL CANDIDATES with sum of MAlE and FEMALE candidates since non of the two has a null value\n",
    "df['TOTAL_CANDIDATES'].fillna(df['MALE_CANDIDATES']+df['FEMALE_CANDIDATES'], inplace=True)"
   ]
  },
  {
   "cell_type": "code",
   "execution_count": null,
   "metadata": {},
   "outputs": [],
   "source": [
    "# Now we need to check if the total sum of male and female is equal to total candidates\n",
    "notEqual = df[df['TOTAL_CANDIDATES'] != (df['MALE_CANDIDATES']+df['FEMALE_CANDIDATES'])]\n",
    "notEqual[['SCHOOL', 'TOTAL_CANDIDATES', 'MALE_CANDIDATES', 'FEMALE_CANDIDATES']]"
   ]
  },
  {
   "cell_type": "code",
   "execution_count": null,
   "metadata": {},
   "outputs": [],
   "source": [
    "# generating grades array [1,2,3,4,7,9,x] from each percentage grade\n",
    "grades = []\n",
    "for column in df.columns:\n",
    "    if(column.startswith(\"%\")):\n",
    "        grades.append(column[-1])\n",
    "\n",
    "# Getting coefficient of key Sections\n",
    "for row in df.index:\n",
    "    total_coefficient = df.at[row, \"TOTAL_CANDIDATES\"] / 100 \n",
    "    male_coefficient = df.at[row, \"MALE_CANDIDATES\"] / 100 \n",
    "    female_coefficient = df.at[row, \"FEMALE_CANDIDATES\"] / 100 \n",
    "\n",
    "    # for each grade [1,2,3,4,7,9,x] obtain it's total,%,maleTotal,male%,femaleTotal,female%\n",
    "    for grade in grades:\n",
    "        total = list(filter(lambda x: x.endswith(grade) and x.startswith(\"TOTAL\"), df.columns))[0]\n",
    "        totalPercentage = list(filter(lambda x: x.endswith(grade) and x.startswith(\"%\"), df.columns))[0]\n",
    "        maleTotal = list(filter(lambda x: x.endswith(grade) and x.startswith(\"MALE\") and \"TOTAL\" in x, df.columns))[0]\n",
    "        malePercentage = list(filter(lambda x: x.endswith(grade) and x.startswith(\"MALE\") and \"%\" in x, df.columns))[0]\n",
    "        femaleTotal = list(filter(lambda x: x.endswith(grade) and x.startswith(\"FEMALE\") and \"TOTAL\" in x, df.columns))[0]\n",
    "        femalePercentage = list(filter(lambda x: x.endswith(grade) and x.startswith(\"FEMALE\") and \"%\" in x, df.columns))[0]\n",
    "\n",
    "        # Here whenever the coefficient is 0, fill the remaining related fields for that grade with 0's \n",
    "        if(total_coefficient == 0.0):\n",
    "            df.at[row, total] = 0.0\n",
    "            df.at[row, totalPercentage] = 0.0\n",
    "        if(total_coefficient == 0.0):\n",
    "            df.at[row, maleTotal] = 0.0\n",
    "            df.at[row, malePercentage] = 0.0\n",
    "        if(total_coefficient == 0.0):\n",
    "            df.at[row, femaleTotal] = 0.0\n",
    "            df.at[row, femalePercentage] = 0.0\n",
    "\n",
    "        # whenever percentage grade 0.0% replace its corresponding NaN grade with 0.0\n",
    "        if(df.at[row, totalPercentage] == 0.0 and pd.isna(df.at[row, total])):\n",
    "            df.at[row, total] == 0.0\n",
    "        if(df.at[row, femalePercentage] == 0.0 and pd.isna(df.at[row, femaleTotal])):\n",
    "            df.at[row, femaleTotal] == 0.0\n",
    "        if(df.at[row, malePercentage] == 0.0 and pd.isna(df.at[row, maleTotal])):\n",
    "            df.at[row, maleTotal] == 0.0\n",
    "\n",
    "        # whenever grade 0.0 replace its corresponding NaN %grade with 0.0\n",
    "        if(df.at[row, total] == 0.0 and pd.isna(df.at[row, totalPercentage])):\n",
    "            df.at[row, totalPercentage] == 0.0\n",
    "\n",
    "        if(df.at[row, femaleTotal] == 0.0 and pd.isna(df.at[row, femalePercentage])):\n",
    "            df.at[row, femalePercentage] == 0.0\n",
    "\n",
    "        if(df.at[row, maleTotal] == 0.0 and pd.isna(df.at[row, malePercentage])):\n",
    "            df.at[row, malePercentage] == 0.0\n",
    "\n",
    "        # using the calculated coefficients\n",
    "        if(pd.notna(df.at[row, total]) and pd.isna(df.at[row, totalPercentage])):\n",
    "            df.at[row, totalPercentage] = round((df.at[row, total] / total_coefficient), 1)\n",
    "\n",
    "        if(pd.notna(df.at[row, totalPercentage]) and pd.isna(df.at[row, total])):\n",
    "            df.at[row, total] = int(df.at[row, totalPercentage] * total_coefficient)\n",
    "\n",
    "        if(pd.notna(df.at[row, maleTotal]) and pd.isna(df.at[row, malePercentage])):\n",
    "            df.at[row, malePercentage] = round((df.at[row, maleTotal] / male_coefficient), 1)\n",
    "\n",
    "        if(pd.notna(df.at[row, malePercentage]) and pd.isna(df.at[row, maleTotal])):\n",
    "            df.at[row, maleTotal] = int(df.at[row, malePercentage] * male_coefficient)\n",
    "\n",
    "        if(pd.notna(df.at[row, femaleTotal]) and pd.isna(df.at[row, femalePercentage])):\n",
    "            df.at[row, femalePercentage] = round((df.at[row, femaleTotal] / female_coefficient), 1)\n",
    "\n",
    "        if(pd.notna(df.at[row, femalePercentage]) and pd.isna(df.at[row, femaleTotal])):\n",
    "            df.at[row, femaleTotal] = int(df.at[row, femalePercentage] * female_coefficient)\n",
    "\n",
    "        # applying subtraction from Total %ages, to fill the missing ones ie male and female percentages\n",
    "        if(pd.notna(df.at[row, malePercentage]) or pd.notna(df.at[row, femalePercentage]) is not pd.notna(df.at[row, femalePercentage]) == pd.notna(df.at[row, malePercentage])):\n",
    "            if(pd.notna(df.at[row, malePercentage])):\n",
    "                df.at[row, femaleTotal] = df.at[row, totalPercentage] - df.at[row, malePercentage]\n",
    "\n",
    "            if(pd.notna(df.at[row, femalePercentage])):\n",
    "                df.at[row, maleTotal] = df.at[row, totalPercentage] - df.at[row, femalePercentage]\n",
    "\n",
    "\n",
    "        # get missing total grades by summation and subtraction of male, female and general totals\n",
    "        if not (pd.notna(df.at[row, total]) and pd.notna(df.at[row, maleTotal]) and pd.notna(df.at[row, femaleTotal])):\n",
    "            if(pd.notna(df.at[row, maleTotal]) and pd.notna(df.at[row, total])):\n",
    "                df.at[row, femaleTotal] = df.at[row, total] - df.at[row, maleTotal]\n",
    "            if(pd.notna(df.at[row, femaleTotal]) and pd.notna(df.at[row, total])):\n",
    "                df.at[row, maleTotal] = df.at[row, total] - df.at[row, femaleTotal]\n",
    "            if(pd.notna(df.at[row, maleTotal]) and pd.notna(df.at[row, femaleTotal])):\n",
    "                df.at[row, total] = df.at[row, femaleTotal] + df.at[row, maleTotal]\n",
    "\n"
   ]
  },
  {
   "cell_type": "code",
   "execution_count": null,
   "metadata": {},
   "outputs": [],
   "source": [
    "print('Number of rows with null values BEFORE running the algorithm: ', before_computation)\n",
    "withnullrows_after = df[df.isna().any(axis=1)]\n",
    "\n",
    "print(\"Number of rows with null values AFTER running the algorithm: \"+str(len(withnullrows_after.axes[0])))"
   ]
  },
  {
   "cell_type": "code",
   "execution_count": null,
   "metadata": {},
   "outputs": [],
   "source": [
    "df.isna().any()"
   ]
  },
  {
   "cell_type": "code",
   "execution_count": null,
   "metadata": {},
   "outputs": [],
   "source": [
    "df.SCHOOL = df.SCHOOL.apply(lambda x: x.split(\" \")[0].strip())\n",
    "\n",
    "\n",
    "for school in sorted(df.SCHOOL.unique()):\n",
    "    print(school)"
   ]
  },
  {
   "cell_type": "code",
   "execution_count": null,
   "metadata": {},
   "outputs": [],
   "source": [
    "yearCandidates = df[['YEAR', 'TOTAL CANDIDATES']]\n",
    "yearCandidates"
   ]
  },
  {
   "cell_type": "code",
   "execution_count": null,
   "metadata": {},
   "outputs": [],
   "source": [
    "total_year_candidates = yearCandidates.groupby('YEAR').sum()\n",
    "total_year_candidates"
   ]
  },
  {
   "cell_type": "code",
   "execution_count": null,
   "metadata": {},
   "outputs": [],
   "source": [
    "YearCandidatesBarh = total_year_candidates.plot(kind='barh', align='center', figsize=(10, 3), color = 'indigo', legend=False,\n",
    "                                                title=\"HORIZONTAL BAR GRAPH SHOWING TOTAL CANDIDATES WHO SIT UCE PER YEAR\",\n",
    "                                                ).set_xlabel('TOTAL_CANDIDATES')\n",
    "print('This shows that year 2016 had the highest number of UCE candidates: ')\n",
    "YearCandidatesBarh"
   ]
  },
  {
   "cell_type": "code",
   "execution_count": null,
   "metadata": {},
   "outputs": [],
   "source": [
    "df.columns"
   ]
  },
  {
   "cell_type": "code",
   "execution_count": null,
   "metadata": {},
   "outputs": [],
   "source": [
    "yearGrades = df[['YEAR', 'TOTAL DIV 1', 'TOTAL DIV 2', 'TOTAL DIV 3', 'TOTAL DIV 4', 'TOTAL DIV 7', 'TOTAL DIV 9', 'TOTAL X']]\n",
    "yearGrades"
   ]
  },
  {
   "cell_type": "code",
   "execution_count": null,
   "metadata": {},
   "outputs": [],
   "source": [
    "total_year_grades = yearGrades.groupby('YEAR')[['TOTAL DIV 1', 'TOTAL DIV 2', 'TOTAL DIV 3', 'TOTAL DIV 4', 'TOTAL DIV 7', 'TOTAL DIV 9', 'TOTAL X']]\n",
    "total_year_grades"
   ]
  },
  {
   "cell_type": "code",
   "execution_count": null,
   "metadata": {},
   "outputs": [],
   "source": [
    "# plotting total candidates in each division per year\n",
    "total_year_grades.plot(kind='bar', align='center', figsize=(15, 10), \n",
    "                       title=\"BAR GRAPH SHOWING TOTAL UCE CANDIDATES IN GIVEN DIVISIONS PER YEAR\").tick_params(axis='x', labelrotation=0)"
   ]
  }
 ],
 "metadata": {
  "kernelspec": {
   "display_name": "Python 3",
   "language": "python",
   "name": "python3"
  },
  "language_info": {
   "codemirror_mode": {
    "name": "ipython",
    "version": 3
   },
   "file_extension": ".py",
   "mimetype": "text/x-python",
   "name": "python",
   "nbconvert_exporter": "python",
   "pygments_lexer": "ipython3",
   "version": "3.11.4"
  },
  "orig_nbformat": 4
 },
 "nbformat": 4,
 "nbformat_minor": 2
}
